{
 "cells": [
  {
   "cell_type": "code",
   "execution_count": null,
   "id": "39db2986",
   "metadata": {},
   "outputs": [],
   "source": [
    "import pandas as pd\n",
    "import numpy as np\n",
    "import seaborn as sns\n",
    "import matplotlib.pyplot as plt\n",
    "df=pd.read_csv('Y:/Machine Learning/WEEK_4/heart_failure_clinical_records_dataset.csv')"
   ]
  },
  {
   "cell_type": "code",
   "execution_count": null,
   "id": "8a1baf60",
   "metadata": {},
   "outputs": [],
   "source": [
    "df.head()"
   ]
  },
  {
   "cell_type": "code",
   "execution_count": null,
   "id": "6955de8f",
   "metadata": {},
   "outputs": [],
   "source": [
    "df.loc[5]"
   ]
  },
  {
   "cell_type": "code",
   "execution_count": null,
   "id": "1d2cc63a",
   "metadata": {},
   "outputs": [],
   "source": [
    "df.iloc[5]"
   ]
  },
  {
   "cell_type": "code",
   "execution_count": null,
   "id": "cc2ed236",
   "metadata": {},
   "outputs": [],
   "source": [
    "df.sort_values('smoking')"
   ]
  },
  {
   "cell_type": "code",
   "execution_count": null,
   "id": "9448229a",
   "metadata": {},
   "outputs": [],
   "source": [
    "df.groupby('age').mean()"
   ]
  },
  {
   "cell_type": "code",
   "execution_count": null,
   "id": "0476ea9d",
   "metadata": {},
   "outputs": [],
   "source": [
    "print(df.fillna(method='ffill', inplace=True))"
   ]
  },
  {
   "cell_type": "code",
   "execution_count": null,
   "id": "4518bd0e",
   "metadata": {},
   "outputs": [],
   "source": [
    "df.dropna(inplace=True)\n",
    "df.dropna(inplace=True, axis=1)\n",
    "df"
   ]
  },
  {
   "cell_type": "code",
   "execution_count": null,
   "id": "7beb78f0",
   "metadata": {},
   "outputs": [],
   "source": [
    "sns.lineplot(x='age', y='diabetes', data=df)\n",
    "plt.show()"
   ]
  },
  {
   "cell_type": "code",
   "execution_count": null,
   "id": "9e32dc03",
   "metadata": {},
   "outputs": [],
   "source": [
    "sns.countplot(x='ejection_fraction', data=df)\n",
    "plt.show()"
   ]
  },
  {
   "cell_type": "code",
   "execution_count": null,
   "id": "095b9685",
   "metadata": {},
   "outputs": [],
   "source": [
    "df['sex'].value_counts().plot.pie(autopct='%1.1f%%')\n",
    "plt.ylabel('sex')\n",
    "plt.show()"
   ]
  },
  {
   "cell_type": "code",
   "execution_count": null,
   "id": "95f2cb4d",
   "metadata": {},
   "outputs": [],
   "source": [
    "sns.scatterplot(x='age', y='diabetes', hue='smoking', data=df)\n",
    "plt.show()"
   ]
  },
  {
   "cell_type": "code",
   "execution_count": null,
   "id": "d43b037e",
   "metadata": {},
   "outputs": [],
   "source": [
    "sns.boxplot(x='smoking', y='age', data=df)\n",
    "plt.show()"
   ]
  },
  {
   "cell_type": "code",
   "execution_count": null,
   "id": "367ea5c7",
   "metadata": {},
   "outputs": [],
   "source": [
    "from sklearn.preprocessing import OrdinalEncoder\n",
    "encoder = OrdinalEncoder(categories=[['1', '0']])\n",
    "df['Pclass_encoded'] = encoder.fit_transform(df[['smoking']])"
   ]
  }
 ],
 "metadata": {
  "language_info": {
   "name": "python"
  }
 },
 "nbformat": 4,
 "nbformat_minor": 5
}
